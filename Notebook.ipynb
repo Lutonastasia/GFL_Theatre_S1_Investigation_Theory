{
 "cells": [
  {
   "cell_type": "code",
   "execution_count": 14,
   "metadata": {},
   "outputs": [],
   "source": [
    "import pandas as pd\n",
    "import numpy as np\n",
    "import random as rd"
   ]
  },
  {
   "cell_type": "code",
   "execution_count": 83,
   "metadata": {},
   "outputs": [],
   "source": [
    "locations = ['A', 'B', 'C']\n",
    "\n",
    "base_score = {\n",
    "    'A': 30,\n",
    "    'B': 40,\n",
    "    'C': 50\n",
    "}\n",
    "\n",
    "score_multiplier = {\n",
    "    'Win': 2.0,\n",
    "    'Tie': 1.0,\n",
    "    'Lose': 0.5\n",
    "}\n",
    "\n",
    "#21 days\n",
    "#96 at day 12\n",
    "drones_available = [1, 15, 24, 39, 54, 66, 72, 78, 87, 93, 93, 96, 96, 96, 96, 96, 96, 96, 96, 96, 96]\n",
    "\n",
    "#placement 1 for winner, placement 3 for loser\n",
    "#placement_A = [3, 1, 1, 1, 1, 3, 1, 1, 2, 3, 1, 1, 2, 2, 1, 1, 2, 1, 1, 1]\n",
    "#placement_B = [1, 2, 2, 3, 2, 1, 2, 3, 1, 1, 3, 3, 1, 1, 3, 2, 3, 2, 2, 3]\n",
    "#placement_C = [2, 3, 3, 2, 3, 2, 3, 2, 3, 2, 2, 2, 3, 3, 2, 3, 1, 3, 3, 2]\n",
    "\n",
    "#votes, percentage of 100\n",
    "#votes_A = [40.03, 21.08, 19.12, 30.37, 24.46, 41.44, 24.66, 28.10, 33.31, 35.79, 27.10, 26.55, 33.69, 32.48, 32.15, 28.18, 34.05, 29.51, 31.85, 31.08]\n",
    "#votes_B = [25.20, 25.12, 35.60, 34.97, 32.05, 25.64, 35.50, 39.52, 29.74, 28.57, 36.61, 37.30, 29.95, 32.32, 34.55, 35.04, 35.58, 34.33, 32.18, 37.46]\n",
    "#votes_C = [34.77, 53.80, 45.28, 34,66, 43.48, 32.92, 39.84, 32.38, 36.95, 35.64, 36.28, 36.15, 36.36, 35.20, 33.30, 36.79, 30.37, 36.16, 35.97, 31.47]\n",
    "\n",
    "#note that data for day 21 is fudged. It was reported that the result was B > A > C but not the exact percentages.\n",
    "votes = {\n",
    "    'A': [40.03, 21.08, 19.12, 30.37, 24.46, 41.44, 24.66, 28.10, 33.31, 35.79, 27.10, 26.55, 33.69, 32.48, 32.15, 28.18, 34.05, 29.51, 31.85, 31.08, 32.48],\n",
    "    'B': [25.20, 25.12, 35.60, 34.97, 32.05, 25.64, 35.50, 39.52, 29.74, 28.57, 36.61, 37.30, 29.95, 32.32, 34.55, 35.04, 35.58, 34.33, 32.18, 37.46, 32.32],\n",
    "    'C': [34.77, 53.80, 45.28, 34.66, 43.48, 32.92, 39.84, 32.38, 36.95, 35.64, 36.28, 36.15, 36.36, 35.20, 33.30, 36.79, 30.37, 36.16, 35.97, 31.47, 35.20]\n",
    "}\n",
    "\n",
    "def daily_calc(location, place):\n",
    "    daily = base_score[location] * score_multiplier[place] * drones_available[day]\n",
    "    return daily\n",
    "\n",
    "def outcome(area):\n",
    "    global total\n",
    "    if area == winning_loc:\n",
    "        daily = daily_calc(choice,'Win')\n",
    "        total = total + daily\n",
    "        print(area + ' WIN  - ' + ' Points: ' + str(daily) + ' Total: ' + str(total))\n",
    "    elif area == losing_loc:\n",
    "        daily = daily_calc(choice,'Lose')\n",
    "        total = total + daily\n",
    "        print(area + ' LOSE - ' + ' Points: ' + str(daily) + ' Total: ' + str(total))\n",
    "    else:\n",
    "        daily = daily_calc(choice, 'Tie')\n",
    "        total = total + daily\n",
    "        print(area + ' Tie  - ' + ' Points: ' + str(daily) + ' Total: ' + str(total))"
   ]
  },
  {
   "cell_type": "code",
   "execution_count": 4,
   "metadata": {},
   "outputs": [],
   "source": [
    "vote_table = pd.DataFrame(votes)"
   ]
  },
  {
   "cell_type": "code",
   "execution_count": 4,
   "metadata": {},
   "outputs": [
    {
     "name": "stdout",
     "output_type": "stream",
     "text": [
      "1582\n"
     ]
    }
   ],
   "source": [
    "total_drones = 0\n",
    "for drones in drones_available:\n",
    "    total_drones = total_drones+drones\n",
    "\n",
    "print(total_drones)"
   ]
  },
  {
   "cell_type": "code",
   "execution_count": 5,
   "metadata": {},
   "outputs": [
    {
     "data": {
      "text/html": [
       "<div>\n",
       "<style scoped>\n",
       "    .dataframe tbody tr th:only-of-type {\n",
       "        vertical-align: middle;\n",
       "    }\n",
       "\n",
       "    .dataframe tbody tr th {\n",
       "        vertical-align: top;\n",
       "    }\n",
       "\n",
       "    .dataframe thead th {\n",
       "        text-align: right;\n",
       "    }\n",
       "</style>\n",
       "<table border=\"1\" class=\"dataframe\">\n",
       "  <thead>\n",
       "    <tr style=\"text-align: right;\">\n",
       "      <th></th>\n",
       "      <th>0</th>\n",
       "      <th>1</th>\n",
       "      <th>2</th>\n",
       "      <th>3</th>\n",
       "      <th>4</th>\n",
       "      <th>5</th>\n",
       "      <th>6</th>\n",
       "      <th>7</th>\n",
       "      <th>8</th>\n",
       "      <th>9</th>\n",
       "      <th>...</th>\n",
       "      <th>11</th>\n",
       "      <th>12</th>\n",
       "      <th>13</th>\n",
       "      <th>14</th>\n",
       "      <th>15</th>\n",
       "      <th>16</th>\n",
       "      <th>17</th>\n",
       "      <th>18</th>\n",
       "      <th>19</th>\n",
       "      <th>20</th>\n",
       "    </tr>\n",
       "  </thead>\n",
       "  <tbody>\n",
       "    <tr>\n",
       "      <th>A</th>\n",
       "      <td>40.03</td>\n",
       "      <td>21.08</td>\n",
       "      <td>19.12</td>\n",
       "      <td>30.37</td>\n",
       "      <td>24.46</td>\n",
       "      <td>41.44</td>\n",
       "      <td>24.66</td>\n",
       "      <td>28.10</td>\n",
       "      <td>33.31</td>\n",
       "      <td>35.79</td>\n",
       "      <td>...</td>\n",
       "      <td>26.55</td>\n",
       "      <td>33.69</td>\n",
       "      <td>32.48</td>\n",
       "      <td>32.15</td>\n",
       "      <td>28.18</td>\n",
       "      <td>34.05</td>\n",
       "      <td>29.51</td>\n",
       "      <td>31.85</td>\n",
       "      <td>31.08</td>\n",
       "      <td>32.48</td>\n",
       "    </tr>\n",
       "    <tr>\n",
       "      <th>B</th>\n",
       "      <td>25.20</td>\n",
       "      <td>25.12</td>\n",
       "      <td>35.60</td>\n",
       "      <td>34.97</td>\n",
       "      <td>32.05</td>\n",
       "      <td>25.64</td>\n",
       "      <td>35.50</td>\n",
       "      <td>39.52</td>\n",
       "      <td>29.74</td>\n",
       "      <td>28.57</td>\n",
       "      <td>...</td>\n",
       "      <td>37.30</td>\n",
       "      <td>29.95</td>\n",
       "      <td>32.32</td>\n",
       "      <td>34.55</td>\n",
       "      <td>35.04</td>\n",
       "      <td>35.58</td>\n",
       "      <td>34.33</td>\n",
       "      <td>32.18</td>\n",
       "      <td>37.46</td>\n",
       "      <td>32.32</td>\n",
       "    </tr>\n",
       "    <tr>\n",
       "      <th>C</th>\n",
       "      <td>34.77</td>\n",
       "      <td>53.80</td>\n",
       "      <td>45.28</td>\n",
       "      <td>34.66</td>\n",
       "      <td>43.48</td>\n",
       "      <td>32.92</td>\n",
       "      <td>39.84</td>\n",
       "      <td>32.38</td>\n",
       "      <td>36.95</td>\n",
       "      <td>35.64</td>\n",
       "      <td>...</td>\n",
       "      <td>36.15</td>\n",
       "      <td>36.36</td>\n",
       "      <td>35.20</td>\n",
       "      <td>33.30</td>\n",
       "      <td>36.79</td>\n",
       "      <td>30.37</td>\n",
       "      <td>36.16</td>\n",
       "      <td>35.97</td>\n",
       "      <td>31.47</td>\n",
       "      <td>35.20</td>\n",
       "    </tr>\n",
       "  </tbody>\n",
       "</table>\n",
       "<p>3 rows × 21 columns</p>\n",
       "</div>"
      ],
      "text/plain": [
       "      0      1      2      3      4      5      6      7      8      9   \\\n",
       "A  40.03  21.08  19.12  30.37  24.46  41.44  24.66  28.10  33.31  35.79   \n",
       "B  25.20  25.12  35.60  34.97  32.05  25.64  35.50  39.52  29.74  28.57   \n",
       "C  34.77  53.80  45.28  34.66  43.48  32.92  39.84  32.38  36.95  35.64   \n",
       "\n",
       "   ...       11     12     13     14     15     16     17     18     19     20  \n",
       "A  ...    26.55  33.69  32.48  32.15  28.18  34.05  29.51  31.85  31.08  32.48  \n",
       "B  ...    37.30  29.95  32.32  34.55  35.04  35.58  34.33  32.18  37.46  32.32  \n",
       "C  ...    36.15  36.36  35.20  33.30  36.79  30.37  36.16  35.97  31.47  35.20  \n",
       "\n",
       "[3 rows x 21 columns]"
      ]
     },
     "execution_count": 5,
     "metadata": {},
     "output_type": "execute_result"
    }
   ],
   "source": [
    "t_vote_table = vote_table.transpose()\n",
    "t_vote_table"
   ]
  },
  {
   "cell_type": "code",
   "execution_count": 6,
   "metadata": {},
   "outputs": [
    {
     "name": "stdout",
     "output_type": "stream",
     "text": [
      "Daily Ranking\n",
      "Winner: B, Tie: C, Loser: A\n",
      "Winner: A, Tie: B, Loser: C\n",
      "Winner: A, Tie: B, Loser: C\n",
      "Winner: A, Tie: C, Loser: B\n",
      "Winner: A, Tie: B, Loser: C\n",
      "Winner: B, Tie: C, Loser: A\n",
      "Winner: A, Tie: B, Loser: C\n",
      "Winner: A, Tie: C, Loser: B\n",
      "Winner: B, Tie: A, Loser: C\n",
      "Winner: B, Tie: C, Loser: A\n",
      "Winner: A, Tie: C, Loser: B\n",
      "Winner: A, Tie: C, Loser: B\n",
      "Winner: B, Tie: A, Loser: C\n",
      "Winner: B, Tie: A, Loser: C\n",
      "Winner: A, Tie: C, Loser: B\n",
      "Winner: A, Tie: B, Loser: C\n",
      "Winner: C, Tie: A, Loser: B\n",
      "Winner: A, Tie: B, Loser: C\n",
      "Winner: A, Tie: B, Loser: C\n",
      "Winner: A, Tie: C, Loser: B\n",
      "Winner: B, Tie: A, Loser: C\n"
     ]
    }
   ],
   "source": [
    "print('Daily Ranking')\n",
    "for day in t_vote_table:\n",
    "    winning_loc = t_vote_table[day].idxmin()\n",
    "    losing_loc = t_vote_table[day].idxmax()\n",
    "    tie_loc = [loc for loc in locations if winning_loc != loc and losing_loc != loc]\n",
    "    print('Winner: ' + winning_loc + ', Tie: ' + tie_loc[0] + ', Loser: ' + losing_loc)"
   ]
  },
  {
   "cell_type": "code",
   "execution_count": 7,
   "metadata": {},
   "outputs": [
    {
     "name": "stdout",
     "output_type": "stream",
     "text": [
      "ALL WINS\n",
      "Winner: B Points: 80.0 Total: 80.0\n",
      "Winner: A Points: 900.0 Total: 980.0\n",
      "Winner: A Points: 1440.0 Total: 2420.0\n",
      "Winner: A Points: 2340.0 Total: 4760.0\n",
      "Winner: A Points: 3240.0 Total: 8000.0\n",
      "Winner: B Points: 5280.0 Total: 13280.0\n",
      "Winner: A Points: 4320.0 Total: 17600.0\n",
      "Winner: A Points: 4680.0 Total: 22280.0\n",
      "Winner: B Points: 6960.0 Total: 29240.0\n",
      "Winner: B Points: 7440.0 Total: 36680.0\n",
      "Winner: A Points: 5580.0 Total: 42260.0\n",
      "Winner: A Points: 5760.0 Total: 48020.0\n",
      "Winner: B Points: 7680.0 Total: 55700.0\n",
      "Winner: B Points: 7680.0 Total: 63380.0\n",
      "Winner: A Points: 5760.0 Total: 69140.0\n",
      "Winner: A Points: 5760.0 Total: 74900.0\n",
      "Winner: C Points: 9600.0 Total: 84500.0\n",
      "Winner: A Points: 5760.0 Total: 90260.0\n",
      "Winner: A Points: 5760.0 Total: 96020.0\n",
      "Winner: A Points: 5760.0 Total: 101780.0\n",
      "Winner: B Points: 7680.0 Total: 109460.0\n"
     ]
    }
   ],
   "source": [
    "print('ALL WINS')\n",
    "total = 0\n",
    "for day in t_vote_table:\n",
    "    winning_loc = t_vote_table[day].idxmin()\n",
    "    daily = base_score[winning_loc] * score_multiplier['Win'] * drones_available[day]\n",
    "    total = total + daily\n",
    "    print('Winner: ' + winning_loc + ' Points: ' + str(daily) + ' Total: ' + str(total))"
   ]
  },
  {
   "cell_type": "code",
   "execution_count": 8,
   "metadata": {},
   "outputs": [
    {
     "name": "stdout",
     "output_type": "stream",
     "text": [
      "ALL LOSSES\n",
      "Loser: A Points: 15.0 Total: 15.0\n",
      "Loser: C Points: 375.0 Total: 390.0\n",
      "Loser: C Points: 600.0 Total: 990.0\n",
      "Loser: B Points: 780.0 Total: 1770.0\n",
      "Loser: C Points: 1350.0 Total: 3120.0\n",
      "Loser: A Points: 990.0 Total: 4110.0\n",
      "Loser: C Points: 1800.0 Total: 5910.0\n",
      "Loser: B Points: 1560.0 Total: 7470.0\n",
      "Loser: C Points: 2175.0 Total: 9645.0\n",
      "Loser: A Points: 1395.0 Total: 11040.0\n",
      "Loser: B Points: 1860.0 Total: 12900.0\n",
      "Loser: B Points: 1920.0 Total: 14820.0\n",
      "Loser: C Points: 2400.0 Total: 17220.0\n",
      "Loser: C Points: 2400.0 Total: 19620.0\n",
      "Loser: B Points: 1920.0 Total: 21540.0\n",
      "Loser: C Points: 2400.0 Total: 23940.0\n",
      "Loser: B Points: 1920.0 Total: 25860.0\n",
      "Loser: C Points: 2400.0 Total: 28260.0\n",
      "Loser: C Points: 2400.0 Total: 30660.0\n",
      "Loser: B Points: 1920.0 Total: 32580.0\n",
      "Loser: C Points: 2400.0 Total: 34980.0\n"
     ]
    }
   ],
   "source": [
    "print('ALL LOSSES')\n",
    "total = 0\n",
    "for day in t_vote_table:\n",
    "    losing_loc = t_vote_table[day].idxmax()\n",
    "    daily = base_score[losing_loc] * score_multiplier['Lose'] * drones_available[day]\n",
    "    total = total + daily\n",
    "    print('Loser: ' + losing_loc + ' Points: ' + str(daily) + ' Total: ' + str(total))"
   ]
  },
  {
   "cell_type": "code",
   "execution_count": 9,
   "metadata": {},
   "outputs": [
    {
     "name": "stdout",
     "output_type": "stream",
     "text": [
      "ALL TIES\n",
      "Tie: C Points: 50.0 Total: 50.0\n",
      "Tie: B Points: 600.0 Total: 650.0\n",
      "Tie: B Points: 960.0 Total: 1610.0\n",
      "Tie: C Points: 1950.0 Total: 3560.0\n",
      "Tie: B Points: 2160.0 Total: 5720.0\n",
      "Tie: C Points: 3300.0 Total: 9020.0\n",
      "Tie: B Points: 2880.0 Total: 11900.0\n",
      "Tie: C Points: 3900.0 Total: 15800.0\n",
      "Tie: A Points: 2610.0 Total: 18410.0\n",
      "Tie: C Points: 4650.0 Total: 23060.0\n",
      "Tie: C Points: 4650.0 Total: 27710.0\n",
      "Tie: C Points: 4800.0 Total: 32510.0\n",
      "Tie: A Points: 2880.0 Total: 35390.0\n",
      "Tie: A Points: 2880.0 Total: 38270.0\n",
      "Tie: C Points: 4800.0 Total: 43070.0\n",
      "Tie: B Points: 3840.0 Total: 46910.0\n",
      "Tie: A Points: 2880.0 Total: 49790.0\n",
      "Tie: B Points: 3840.0 Total: 53630.0\n",
      "Tie: B Points: 3840.0 Total: 57470.0\n",
      "Tie: C Points: 4800.0 Total: 62270.0\n",
      "Tie: A Points: 2880.0 Total: 65150.0\n"
     ]
    }
   ],
   "source": [
    "print('ALL TIES')\n",
    "total = 0\n",
    "for day in t_vote_table:\n",
    "    winning_loc = t_vote_table[day].idxmin()\n",
    "    losing_loc = t_vote_table[day].idxmax()\n",
    "    tie_loc = [loc for loc in locations if winning_loc != loc and losing_loc != loc]\n",
    "    daily = daily_calc(tie_loc[0],'Tie')\n",
    "    total = total + daily\n",
    "    print('Tie: ' + tie_loc[0] + ' Points: ' + str(daily) + ' Total: ' + str(total))"
   ]
  },
  {
   "cell_type": "code",
   "execution_count": 10,
   "metadata": {},
   "outputs": [
    {
     "name": "stdout",
     "output_type": "stream",
     "text": [
      "C ONLY\n",
      "C TIE  -  Points: 50.0 Total: 50.0\n",
      "C LOSE -  Points: 375.0 Total: 425.0\n",
      "C LOSE -  Points: 600.0 Total: 1025.0\n",
      "C TIE  -  Points: 1950.0 Total: 2975.0\n",
      "C LOSE -  Points: 1350.0 Total: 4325.0\n",
      "C TIE  -  Points: 3300.0 Total: 7625.0\n",
      "C LOSE -  Points: 1800.0 Total: 9425.0\n",
      "C TIE  -  Points: 3900.0 Total: 13325.0\n",
      "C LOSE -  Points: 2175.0 Total: 15500.0\n",
      "C TIE  -  Points: 4650.0 Total: 20150.0\n",
      "C TIE  -  Points: 4650.0 Total: 24800.0\n",
      "C TIE  -  Points: 4800.0 Total: 29600.0\n",
      "C LOSE -  Points: 2400.0 Total: 32000.0\n",
      "C LOSE -  Points: 2400.0 Total: 34400.0\n",
      "C TIE  -  Points: 4800.0 Total: 39200.0\n",
      "C LOSE -  Points: 2400.0 Total: 41600.0\n",
      "C WIN  -  Points: 9600.0 Total: 51200.0\n",
      "C LOSE -  Points: 2400.0 Total: 53600.0\n",
      "C LOSE -  Points: 2400.0 Total: 56000.0\n",
      "C TIE  -  Points: 4800.0 Total: 60800.0\n",
      "C LOSE -  Points: 2400.0 Total: 63200.0\n"
     ]
    }
   ],
   "source": [
    "print('C ONLY')\n",
    "total = 0\n",
    "for day in t_vote_table:\n",
    "    winning_loc = t_vote_table[day].idxmin()\n",
    "    losing_loc = t_vote_table[day].idxmax()\n",
    "    tie_loc = [loc for loc in locations if winning_loc != loc and losing_loc != loc]\n",
    "    \n",
    "    if 'C' == winning_loc:\n",
    "        daily = daily_calc('C','Win')\n",
    "        total = total + daily\n",
    "        print('C ' + 'WIN  - ' + ' Points: ' + str(daily) + ' Total: ' + str(total))\n",
    "    elif 'C' == losing_loc:\n",
    "        daily = daily_calc('C','Lose')\n",
    "        total = total + daily\n",
    "        print('C ' + 'LOSE - ' + ' Points: ' + str(daily) + ' Total: ' + str(total))\n",
    "    else:\n",
    "        daily = daily_calc('C', 'Tie')\n",
    "        total = total + daily\n",
    "        print('C ' + 'TIE  - ' + ' Points: ' + str(daily) + ' Total: ' + str(total))"
   ]
  },
  {
   "cell_type": "code",
   "execution_count": 11,
   "metadata": {},
   "outputs": [
    {
     "name": "stdout",
     "output_type": "stream",
     "text": [
      "B ONLY\n",
      "B WIN -  Points: 80.0 Total: 80.0\n",
      "B Tie -  Points: 600.0 Total: 680.0\n",
      "B Tie -  Points: 960.0 Total: 1640.0\n",
      "B LOSE -  Points: 780.0 Total: 2420.0\n",
      "B Tie -  Points: 2160.0 Total: 4580.0\n",
      "B WIN -  Points: 5280.0 Total: 9860.0\n",
      "B Tie -  Points: 2880.0 Total: 12740.0\n",
      "B LOSE -  Points: 1560.0 Total: 14300.0\n",
      "B WIN -  Points: 6960.0 Total: 21260.0\n",
      "B WIN -  Points: 7440.0 Total: 28700.0\n",
      "B LOSE -  Points: 1860.0 Total: 30560.0\n",
      "B LOSE -  Points: 1920.0 Total: 32480.0\n",
      "B WIN -  Points: 7680.0 Total: 40160.0\n",
      "B WIN -  Points: 7680.0 Total: 47840.0\n",
      "B LOSE -  Points: 1920.0 Total: 49760.0\n",
      "B Tie -  Points: 3840.0 Total: 53600.0\n",
      "B LOSE -  Points: 1920.0 Total: 55520.0\n",
      "B Tie -  Points: 3840.0 Total: 59360.0\n",
      "B Tie -  Points: 3840.0 Total: 63200.0\n",
      "B LOSE -  Points: 1920.0 Total: 65120.0\n",
      "B WIN -  Points: 7680.0 Total: 72800.0\n"
     ]
    }
   ],
   "source": [
    "print('B ONLY')\n",
    "total = 0\n",
    "choice = 'B'\n",
    "for day in t_vote_table:\n",
    "    winning_loc = t_vote_table[day].idxmin()\n",
    "    losing_loc = t_vote_table[day].idxmax()\n",
    "    tie_loc = [loc for loc in locations if winning_loc != loc and losing_loc != loc]\n",
    "    \n",
    "    if choice == winning_loc:\n",
    "        daily = daily_calc(choice,'Win')\n",
    "        total = total + daily\n",
    "        print(choice + ' WIN - ' + ' Points: ' + str(daily) + ' Total: ' + str(total))\n",
    "    elif choice == losing_loc:\n",
    "        daily = daily_calc(choice,'Lose')\n",
    "        total = total + daily\n",
    "        print(choice + ' LOSE - ' + ' Points: ' + str(daily) + ' Total: ' + str(total))\n",
    "    else:\n",
    "        daily = daily_calc(choice, 'Tie')\n",
    "        total = total + daily\n",
    "        print(choice + ' Tie - ' + ' Points: ' + str(daily) + ' Total: ' + str(total))"
   ]
  },
  {
   "cell_type": "code",
   "execution_count": 12,
   "metadata": {},
   "outputs": [
    {
     "name": "stdout",
     "output_type": "stream",
     "text": [
      "A LOSE -  Points: 15.0 Total: 15.0\n",
      "A WIN  -  Points: 900.0 Total: 915.0\n",
      "A WIN  -  Points: 1440.0 Total: 2355.0\n",
      "A WIN  -  Points: 2340.0 Total: 4695.0\n",
      "A WIN  -  Points: 3240.0 Total: 7935.0\n",
      "A LOSE -  Points: 990.0 Total: 8925.0\n",
      "A WIN  -  Points: 4320.0 Total: 13245.0\n",
      "A WIN  -  Points: 4680.0 Total: 17925.0\n",
      "A Tie  -  Points: 2610.0 Total: 20535.0\n",
      "A LOSE -  Points: 1395.0 Total: 21930.0\n",
      "A WIN  -  Points: 5580.0 Total: 27510.0\n",
      "A WIN  -  Points: 5760.0 Total: 33270.0\n",
      "A Tie  -  Points: 2880.0 Total: 36150.0\n",
      "A Tie  -  Points: 2880.0 Total: 39030.0\n",
      "A WIN  -  Points: 5760.0 Total: 44790.0\n",
      "A WIN  -  Points: 5760.0 Total: 50550.0\n",
      "A Tie  -  Points: 2880.0 Total: 53430.0\n",
      "A WIN  -  Points: 5760.0 Total: 59190.0\n",
      "A WIN  -  Points: 5760.0 Total: 64950.0\n",
      "A WIN  -  Points: 5760.0 Total: 70710.0\n",
      "A Tie  -  Points: 2880.0 Total: 73590.0\n"
     ]
    }
   ],
   "source": [
    "total = 0\n",
    "choice = 'A'\n",
    "for day in t_vote_table:\n",
    "    winning_loc = t_vote_table[day].idxmin()\n",
    "    losing_loc = t_vote_table[day].idxmax()\n",
    "    tie_loc = [loc for loc in locations if winning_loc != loc and losing_loc != loc]\n",
    "    outcome(choice)"
   ]
  },
  {
   "cell_type": "code",
   "execution_count": 159,
   "metadata": {},
   "outputs": [
    {
     "name": "stdout",
     "output_type": "stream",
     "text": [
      "SWAPSIES\n",
      "B WIN  -  Points: 80.0 Total: 80.0\n",
      "B Tie  -  Points: 600.0 Total: 680.0\n",
      "B Tie  -  Points: 960.0 Total: 1640.0\n",
      "B LOSE -  Points: 780.0 Total: 2420.0\n",
      "B Tie  -  Points: 2160.0 Total: 4580.0\n",
      "B WIN  -  Points: 5280.0 Total: 9860.0\n",
      "B Tie  -  Points: 2880.0 Total: 12740.0\n",
      "B LOSE -  Points: 1560.0 Total: 14300.0\n",
      "B WIN  -  Points: 6960.0 Total: 21260.0\n",
      "B WIN  -  Points: 7440.0 Total: 28700.0\n",
      "B LOSE -  Points: 1860.0 Total: 30560.0\n",
      "A WIN  -  Points: 5760.0 Total: 36320.0\n",
      "A Tie  -  Points: 2880.0 Total: 39200.0\n",
      "A Tie  -  Points: 2880.0 Total: 42080.0\n",
      "A WIN  -  Points: 5760.0 Total: 47840.0\n",
      "A WIN  -  Points: 5760.0 Total: 53600.0\n",
      "A Tie  -  Points: 2880.0 Total: 56480.0\n",
      "A WIN  -  Points: 5760.0 Total: 62240.0\n",
      "A WIN  -  Points: 5760.0 Total: 68000.0\n",
      "A WIN  -  Points: 5760.0 Total: 73760.0\n",
      "A Tie  -  Points: 2880.0 Total: 76640.0\n"
     ]
    }
   ],
   "source": [
    "print('SWAPSIES')\n",
    "total = 0\n",
    "choice = 'B'\n",
    "for day in t_vote_table:\n",
    "    winning_loc = t_vote_table[day].idxmin()\n",
    "    losing_loc = t_vote_table[day].idxmax()\n",
    "    tie_loc = [loc for loc in locations if winning_loc != loc and losing_loc != loc]\n",
    "    outcome(choice)\n",
    "    if day == 10:\n",
    "        choice = 'A'"
   ]
  },
  {
   "cell_type": "code",
   "execution_count": 13,
   "metadata": {},
   "outputs": [
    {
     "name": "stdout",
     "output_type": "stream",
     "text": [
      "PICK PREVIOUS WINNER\n",
      "B WIN  -  Points: 80.0 Total: 80.0\n",
      "B Tie  -  Points: 600.0 Total: 680.0\n",
      "A WIN  -  Points: 1440.0 Total: 2120.0\n",
      "A WIN  -  Points: 2340.0 Total: 4460.0\n",
      "A WIN  -  Points: 3240.0 Total: 7700.0\n",
      "A LOSE -  Points: 990.0 Total: 8690.0\n",
      "B Tie  -  Points: 2880.0 Total: 11570.0\n",
      "A WIN  -  Points: 4680.0 Total: 16250.0\n",
      "A Tie  -  Points: 2610.0 Total: 18860.0\n",
      "B WIN  -  Points: 7440.0 Total: 26300.0\n",
      "B LOSE -  Points: 1860.0 Total: 28160.0\n",
      "A WIN  -  Points: 5760.0 Total: 33920.0\n",
      "A Tie  -  Points: 2880.0 Total: 36800.0\n",
      "B WIN  -  Points: 7680.0 Total: 44480.0\n",
      "B LOSE -  Points: 1920.0 Total: 46400.0\n",
      "A WIN  -  Points: 5760.0 Total: 52160.0\n",
      "A Tie  -  Points: 2880.0 Total: 55040.0\n",
      "C LOSE -  Points: 2400.0 Total: 57440.0\n",
      "A WIN  -  Points: 5760.0 Total: 63200.0\n",
      "A WIN  -  Points: 5760.0 Total: 68960.0\n",
      "A Tie  -  Points: 2880.0 Total: 71840.0\n"
     ]
    }
   ],
   "source": [
    "print('PICK PREVIOUS WINNER')\n",
    "total = 0\n",
    "choice = 'B'\n",
    "for day in t_vote_table:\n",
    "    winning_loc = t_vote_table[day].idxmin()\n",
    "    losing_loc = t_vote_table[day].idxmax()\n",
    "    tie_loc = [loc for loc in locations if winning_loc != loc and losing_loc != loc]\n",
    "    outcome(choice)\n",
    "    choice = winning_loc"
   ]
  },
  {
   "cell_type": "code",
   "execution_count": 16,
   "metadata": {},
   "outputs": [
    {
     "name": "stdout",
     "output_type": "stream",
     "text": [
      "PICK PREVIOUS LOSER\n",
      "B WIN  -  Points: 80.0 Total: 80.0\n",
      "A WIN  -  Points: 900.0 Total: 980.0\n",
      "C LOSE -  Points: 600.0 Total: 1580.0\n",
      "C Tie  -  Points: 1950.0 Total: 3530.0\n",
      "B Tie  -  Points: 2160.0 Total: 5690.0\n",
      "C Tie  -  Points: 3300.0 Total: 8990.0\n",
      "A WIN  -  Points: 4320.0 Total: 13310.0\n",
      "C Tie  -  Points: 3900.0 Total: 17210.0\n",
      "B WIN  -  Points: 6960.0 Total: 24170.0\n",
      "C Tie  -  Points: 4650.0 Total: 28820.0\n",
      "A WIN  -  Points: 5580.0 Total: 34400.0\n",
      "B LOSE -  Points: 1920.0 Total: 36320.0\n",
      "B WIN  -  Points: 7680.0 Total: 44000.0\n",
      "C LOSE -  Points: 2400.0 Total: 46400.0\n",
      "C Tie  -  Points: 4800.0 Total: 51200.0\n",
      "B Tie  -  Points: 3840.0 Total: 55040.0\n",
      "C WIN  -  Points: 9600.0 Total: 64640.0\n",
      "B Tie  -  Points: 3840.0 Total: 68480.0\n",
      "C LOSE -  Points: 2400.0 Total: 70880.0\n",
      "C Tie  -  Points: 4800.0 Total: 75680.0\n",
      "B WIN  -  Points: 7680.0 Total: 83360.0\n"
     ]
    }
   ],
   "source": [
    "print('PICK PREVIOUS LOSER')\n",
    "total = 0\n",
    "choice = 'B'\n",
    "for day in t_vote_table:\n",
    "    winning_loc = t_vote_table[day].idxmin()\n",
    "    losing_loc = t_vote_table[day].idxmax()\n",
    "    tie_loc = [loc for loc in locations if winning_loc != loc and losing_loc != loc]\n",
    "    outcome(choice)\n",
    "    choice = losing_loc"
   ]
  },
  {
   "cell_type": "code",
   "execution_count": 15,
   "metadata": {},
   "outputs": [
    {
     "name": "stdout",
     "output_type": "stream",
     "text": [
      "PICK PREVIOUS TIE\n",
      "B WIN  -  Points: 80.0 Total: 80.0\n",
      "C LOSE -  Points: 375.0 Total: 455.0\n",
      "B Tie  -  Points: 960.0 Total: 1415.0\n",
      "B LOSE -  Points: 780.0 Total: 2195.0\n",
      "C LOSE -  Points: 1350.0 Total: 3545.0\n",
      "B WIN  -  Points: 5280.0 Total: 8825.0\n",
      "C LOSE -  Points: 1800.0 Total: 10625.0\n",
      "B LOSE -  Points: 1560.0 Total: 12185.0\n",
      "C LOSE -  Points: 2175.0 Total: 14360.0\n",
      "A LOSE -  Points: 1395.0 Total: 15755.0\n",
      "C Tie  -  Points: 4650.0 Total: 20405.0\n",
      "C Tie  -  Points: 4800.0 Total: 25205.0\n",
      "C LOSE -  Points: 2400.0 Total: 27605.0\n",
      "A Tie  -  Points: 2880.0 Total: 30485.0\n",
      "A WIN  -  Points: 5760.0 Total: 36245.0\n",
      "C LOSE -  Points: 2400.0 Total: 38645.0\n",
      "B LOSE -  Points: 1920.0 Total: 40565.0\n",
      "A WIN  -  Points: 5760.0 Total: 46325.0\n",
      "B Tie  -  Points: 3840.0 Total: 50165.0\n",
      "B LOSE -  Points: 1920.0 Total: 52085.0\n",
      "C LOSE -  Points: 2400.0 Total: 54485.0\n"
     ]
    }
   ],
   "source": [
    "print('PICK PREVIOUS TIE')\n",
    "total = 0\n",
    "choice = 'B'\n",
    "for day in t_vote_table:\n",
    "    winning_loc = t_vote_table[day].idxmin()\n",
    "    losing_loc = t_vote_table[day].idxmax()\n",
    "    tie_loc = [loc for loc in locations if winning_loc != loc and losing_loc != loc]\n",
    "    outcome(choice)**\n",
    "    choice = tie_loc[0]"
   ]
  },
  {
   "cell_type": "code",
   "execution_count": 172,
   "metadata": {},
   "outputs": [
    {
     "name": "stdout",
     "output_type": "stream",
     "text": [
      "ROTABCION\n",
      "B WIN  -  Points: 80.0 Total: 80.0\n",
      "C LOSE -  Points: 375.0 Total: 455.0\n",
      "A WIN  -  Points: 1440.0 Total: 1895.0\n",
      "B LOSE -  Points: 780.0 Total: 2675.0\n",
      "C LOSE -  Points: 1350.0 Total: 4025.0\n",
      "A LOSE -  Points: 990.0 Total: 5015.0\n",
      "B Tie  -  Points: 2880.0 Total: 7895.0\n",
      "C Tie  -  Points: 3900.0 Total: 11795.0\n",
      "A Tie  -  Points: 2610.0 Total: 14405.0\n",
      "B WIN  -  Points: 7440.0 Total: 21845.0\n",
      "C Tie  -  Points: 4650.0 Total: 26495.0\n",
      "A WIN  -  Points: 5760.0 Total: 32255.0\n",
      "B WIN  -  Points: 7680.0 Total: 39935.0\n",
      "C LOSE -  Points: 2400.0 Total: 42335.0\n",
      "A WIN  -  Points: 5760.0 Total: 48095.0\n",
      "B Tie  -  Points: 3840.0 Total: 51935.0\n",
      "C WIN  -  Points: 9600.0 Total: 61535.0\n",
      "A WIN  -  Points: 5760.0 Total: 67295.0\n",
      "B Tie  -  Points: 3840.0 Total: 71135.0\n",
      "C Tie  -  Points: 4800.0 Total: 75935.0\n",
      "A Tie  -  Points: 2880.0 Total: 78815.0\n"
     ]
    }
   ],
   "source": [
    "print('ROTABCION')\n",
    "total = 0\n",
    "i = 1\n",
    "choice = locations[i]\n",
    "for day in t_vote_table:\n",
    "    winning_loc = t_vote_table[day].idxmin()\n",
    "    losing_loc = t_vote_table[day].idxmax()\n",
    "    tie_loc = [loc for loc in locations if winning_loc != loc and losing_loc != loc]\n",
    "    outcome(choice)\n",
    "    if i == 0 or i == 1:\n",
    "        i += 1\n",
    "    else:\n",
    "        i = 0\n",
    "    choice = locations[i]"
   ]
  },
  {
   "cell_type": "code",
   "execution_count": 177,
   "metadata": {},
   "outputs": [
    {
     "name": "stdout",
     "output_type": "stream",
     "text": [
      "KEEP PREVIOUS CHOICE UNTIL LOSS, THEN NEW WINNER\n",
      "B WIN  -  Points: 80.0 Total: 80.0\n",
      "B Tie  -  Points: 600.0 Total: 680.0\n",
      "B Tie  -  Points: 960.0 Total: 1640.0\n",
      "B LOSE -  Points: 780.0 Total: 2420.0\n",
      "C LOSE -  Points: 1350.0 Total: 3770.0\n",
      "B WIN  -  Points: 5280.0 Total: 9050.0\n",
      "B Tie  -  Points: 2880.0 Total: 11930.0\n",
      "B LOSE -  Points: 1560.0 Total: 13490.0\n",
      "C LOSE -  Points: 2175.0 Total: 15665.0\n",
      "A LOSE -  Points: 1395.0 Total: 17060.0\n",
      "C Tie  -  Points: 4650.0 Total: 21710.0\n",
      "C Tie  -  Points: 4800.0 Total: 26510.0\n",
      "C LOSE -  Points: 2400.0 Total: 28910.0\n",
      "A Tie  -  Points: 2880.0 Total: 31790.0\n",
      "A WIN  -  Points: 5760.0 Total: 37550.0\n",
      "A WIN  -  Points: 5760.0 Total: 43310.0\n",
      "A Tie  -  Points: 2880.0 Total: 46190.0\n",
      "A WIN  -  Points: 5760.0 Total: 51950.0\n",
      "A WIN  -  Points: 5760.0 Total: 57710.0\n",
      "A WIN  -  Points: 5760.0 Total: 63470.0\n",
      "A Tie  -  Points: 2880.0 Total: 66350.0\n"
     ]
    }
   ],
   "source": [
    "print('KEEP PREVIOUS CHOICE UNTIL LOSS, THEN NEW WINNER')\n",
    "total = 0\n",
    "choice = 'B'\n",
    "for day in t_vote_table:\n",
    "    winning_loc = t_vote_table[day].idxmin()\n",
    "    losing_loc = t_vote_table[day].idxmax()\n",
    "    tie_loc = [loc for loc in locations if winning_loc != loc and losing_loc != loc]\n",
    "    outcome(choice)\n",
    "    if choice == losing_loc:\n",
    "        choice = tie_loc[0]"
   ]
  },
  {
   "cell_type": "code",
   "execution_count": 178,
   "metadata": {},
   "outputs": [
    {
     "name": "stdout",
     "output_type": "stream",
     "text": [
      "KEEP PREVIOUS CHOICE UNTIL WIN, THEN NEW LOSER\n",
      "B WIN  -  Points: 80.0 Total: 80.0\n",
      "C LOSE -  Points: 375.0 Total: 455.0\n",
      "C LOSE -  Points: 600.0 Total: 1055.0\n",
      "C Tie  -  Points: 1950.0 Total: 3005.0\n",
      "C LOSE -  Points: 1350.0 Total: 4355.0\n",
      "C Tie  -  Points: 3300.0 Total: 7655.0\n",
      "C LOSE -  Points: 1800.0 Total: 9455.0\n",
      "C Tie  -  Points: 3900.0 Total: 13355.0\n",
      "C LOSE -  Points: 2175.0 Total: 15530.0\n",
      "C Tie  -  Points: 4650.0 Total: 20180.0\n",
      "C Tie  -  Points: 4650.0 Total: 24830.0\n",
      "C Tie  -  Points: 4800.0 Total: 29630.0\n",
      "C LOSE -  Points: 2400.0 Total: 32030.0\n",
      "C LOSE -  Points: 2400.0 Total: 34430.0\n",
      "C Tie  -  Points: 4800.0 Total: 39230.0\n",
      "C LOSE -  Points: 2400.0 Total: 41630.0\n",
      "C WIN  -  Points: 9600.0 Total: 51230.0\n",
      "A WIN  -  Points: 5760.0 Total: 56990.0\n",
      "B Tie  -  Points: 3840.0 Total: 60830.0\n",
      "B LOSE -  Points: 1920.0 Total: 62750.0\n",
      "B WIN  -  Points: 7680.0 Total: 70430.0\n"
     ]
    }
   ],
   "source": [
    "print('KEEP PREVIOUS CHOICE UNTIL WIN, THEN NEW LOSER')\n",
    "total = 0\n",
    "choice = 'B'\n",
    "for day in t_vote_table:\n",
    "    winning_loc = t_vote_table[day].idxmin()\n",
    "    losing_loc = t_vote_table[day].idxmax()\n",
    "    tie_loc = [loc for loc in locations if winning_loc != loc and losing_loc != loc]\n",
    "    outcome(choice)\n",
    "    if choice == winning_loc:\n",
    "        choice = tie_loc[0]"
   ]
  },
  {
   "cell_type": "code",
   "execution_count": 226,
   "metadata": {},
   "outputs": [
    {
     "name": "stdout",
     "output_type": "stream",
     "text": [
      "SPIN THE WHEEL\n",
      "A LOSE -  Points: 15.0 Total: 15.0\n",
      "C LOSE -  Points: 375.0 Total: 390.0\n",
      "C LOSE -  Points: 600.0 Total: 990.0\n",
      "B LOSE -  Points: 780.0 Total: 1770.0\n",
      "B Tie  -  Points: 2160.0 Total: 3930.0\n",
      "C Tie  -  Points: 3300.0 Total: 7230.0\n",
      "C LOSE -  Points: 1800.0 Total: 9030.0\n",
      "C Tie  -  Points: 3900.0 Total: 12930.0\n",
      "C LOSE -  Points: 2175.0 Total: 15105.0\n",
      "B WIN  -  Points: 7440.0 Total: 22545.0\n",
      "B LOSE -  Points: 1860.0 Total: 24405.0\n",
      "B LOSE -  Points: 1920.0 Total: 26325.0\n",
      "A Tie  -  Points: 2880.0 Total: 29205.0\n",
      "B WIN  -  Points: 7680.0 Total: 36885.0\n",
      "B LOSE -  Points: 1920.0 Total: 38805.0\n",
      "B Tie  -  Points: 3840.0 Total: 42645.0\n",
      "C WIN  -  Points: 9600.0 Total: 52245.0\n",
      "B Tie  -  Points: 3840.0 Total: 56085.0\n",
      "B Tie  -  Points: 3840.0 Total: 59925.0\n",
      "B LOSE -  Points: 1920.0 Total: 61845.0\n",
      "C LOSE -  Points: 2400.0 Total: 64245.0\n"
     ]
    }
   ],
   "source": [
    "print('SPIN THE WHEEL')\n",
    "total = 0\n",
    "    \n",
    "for day in t_vote_table:\n",
    "    \n",
    "    rd.seed()\n",
    "    rng = rd.random()\n",
    "\n",
    "    if rng >= 0.6666:\n",
    "        choice = 'A'\n",
    "    elif rng >= 0.3333 and rng <=0.6666:\n",
    "        choice = 'B'\n",
    "    else: choice = 'C'\n",
    "    \n",
    "    winning_loc = t_vote_table[day].idxmin()\n",
    "    losing_loc = t_vote_table[day].idxmax()\n",
    "    tie_loc = [loc for loc in locations if winning_loc != loc and losing_loc != loc]\n",
    "    outcome(choice)"
   ]
  },
  {
   "cell_type": "code",
   "execution_count": 77,
   "metadata": {},
   "outputs": [],
   "source": [
    "random_results=[]\n",
    "\n",
    "for i in range(1000):\n",
    "    total = 0\n",
    "    for day in t_vote_table:\n",
    "    \n",
    "        rd.seed()\n",
    "        rng = rd.random()\n",
    "\n",
    "        if rng >= 0.6666:\n",
    "            choice = 'A'\n",
    "        elif rng >= 0.3333 and rng <=0.6666:\n",
    "            choice = 'B'\n",
    "        else: choice = 'C'\n",
    "    \n",
    "        winning_loc = t_vote_table[day].idxmin()\n",
    "        losing_loc = t_vote_table[day].idxmax()\n",
    "        tie_loc = [loc for loc in locations if winning_loc != loc and losing_loc != loc]\n",
    "        outcome(choice)\n",
    "    \n",
    "    random_results.append(total)"
   ]
  },
  {
   "cell_type": "code",
   "execution_count": 82,
   "metadata": {},
   "outputs": [],
   "source": [
    "df = pd.DataFrame(random_results)\n",
    "df.to_csv(\"spin the wheel.csv\", index=False, header=False)"
   ]
  }
 ],
 "metadata": {
  "kernelspec": {
   "display_name": "Python 3",
   "language": "python",
   "name": "python3"
  },
  "language_info": {
   "codemirror_mode": {
    "name": "ipython",
    "version": 3
   },
   "file_extension": ".py",
   "mimetype": "text/x-python",
   "name": "python",
   "nbconvert_exporter": "python",
   "pygments_lexer": "ipython3",
   "version": "3.7.0"
  }
 },
 "nbformat": 4,
 "nbformat_minor": 2
}
